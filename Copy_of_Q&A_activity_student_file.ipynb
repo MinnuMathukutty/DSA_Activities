{
  "nbformat": 4,
  "nbformat_minor": 0,
  "metadata": {
    "kernelspec": {
      "display_name": "Python 3",
      "language": "python",
      "name": "python3"
    },
    "language_info": {
      "codemirror_mode": {
        "name": "ipython",
        "version": 3
      },
      "file_extension": ".py",
      "mimetype": "text/x-python",
      "name": "python",
      "nbconvert_exporter": "python",
      "pygments_lexer": "ipython3",
      "version": "3.7.6"
    },
    "colab": {
      "name": "Copy of Q&A activity student file.ipynb",
      "provenance": [],
      "collapsed_sections": [],
      "include_colab_link": true
    }
  },
  "cells": [
    {
      "cell_type": "markdown",
      "metadata": {
        "id": "view-in-github",
        "colab_type": "text"
      },
      "source": [
        "<a href=\"https://colab.research.google.com/github/MinnuMathukutty/DSA_Activities/blob/main/Copy_of_Q%26A_activity_student_file.ipynb\" target=\"_parent\"><img src=\"https://colab.research.google.com/assets/colab-badge.svg\" alt=\"Open In Colab\"/></a>"
      ]
    },
    {
      "cell_type": "markdown",
      "metadata": {
        "id": "4z_Z-K1tlrS7"
      },
      "source": [
        "## 1. Complete the following code to find the area of an equilateral triangle. Output should be as displayed"
      ]
    },
    {
      "cell_type": "code",
      "metadata": {
        "id": "rP2qFD_SlrS_",
        "colab": {
          "base_uri": "https://localhost:8080/"
        },
        "outputId": "6b715517-ba0c-437c-d8a3-425a2acdf261"
      },
      "source": [
        "import math\n",
        "side = float(input(\"Enter the side of the equilateral triangle: \"))\n",
        "area = ((math.sqrt(3))/4)*pow(side,2)\n",
        "print(\"Area= \",round(area,3))\n"
      ],
      "execution_count": 7,
      "outputs": [
        {
          "output_type": "stream",
          "name": "stdout",
          "text": [
            "Enter the side of the equilateral triangle: 4\n",
            "Area=  6.928\n"
          ]
        }
      ]
    },
    {
      "cell_type": "markdown",
      "metadata": {
        "id": "TjVKjIfclrTB"
      },
      "source": [
        "## 2. Write a program to count the number of each characters in a string"
      ]
    },
    {
      "cell_type": "code",
      "metadata": {
        "id": "JY5seVUQlrTC",
        "colab": {
          "base_uri": "https://localhost:8080/"
        },
        "outputId": "8506ceb0-6981-4771-dda6-30db945cb5a5"
      },
      "source": [
        "string1 = input(\"Enter the string whose count of characters to be printed:\")\n",
        "list1 = []\n",
        "\n",
        "for i in string1:\n",
        "    if i in list1:\n",
        "        continue\n",
        "    else:\n",
        "        print(i,string1.count(i))\n",
        "        list1.append(i)"
      ],
      "execution_count": 8,
      "outputs": [
        {
          "output_type": "stream",
          "name": "stdout",
          "text": [
            "Enter the string whose count of characters to be printed:minnu\n",
            "m 1\n",
            "i 1\n",
            "n 2\n",
            "u 1\n"
          ]
        }
      ]
    },
    {
      "cell_type": "markdown",
      "metadata": {
        "id": "l3LCULfklrTD"
      },
      "source": [
        "## Write a program to find the area and perimeter of a rectangle using functions"
      ]
    },
    {
      "cell_type": "code",
      "metadata": {
        "id": "8haQD8edlrTD",
        "colab": {
          "base_uri": "https://localhost:8080/"
        },
        "outputId": "839ac50f-e711-449f-f0a0-b1ffb04e7414"
      },
      "source": [
        "def rectangle(x,y):\n",
        "    area_rectangle = x*y\n",
        "    perimeter_rectangle = 2*x +2*y\n",
        "    print(\"Area of rectangle=\",area_rectangle)\n",
        "    print(\"Perimeter of rectangle=\",perimeter_rectangle)\n",
        "rectangle(2,6)\n",
        "    "
      ],
      "execution_count": 10,
      "outputs": [
        {
          "output_type": "stream",
          "name": "stdout",
          "text": [
            "Area of rectangle= 12\n",
            "Perimeter of rectangle= 16\n"
          ]
        }
      ]
    },
    {
      "cell_type": "markdown",
      "metadata": {
        "id": "JHK4ZdsflrTE"
      },
      "source": [
        "## 4. Write a program to print the fibonacci series till a specified number"
      ]
    },
    {
      "cell_type": "code",
      "metadata": {
        "id": "LyBEj-4SlrTE",
        "colab": {
          "base_uri": "https://localhost:8080/"
        },
        "outputId": "9b26f439-a2b5-4c5c-bad8-78e10e1b37c4"
      },
      "source": [
        "\n",
        "num = int(input(\"Enter the number upto which fibonacci series to be printed\"))\n",
        "first = 0\n",
        "second = 1\n",
        "temp = 0\n",
        "for i in range(0,num+1):\n",
        "    print(first)\n",
        "    temp=first+second\n",
        "    first=second\n",
        "    second=temp"
      ],
      "execution_count": 11,
      "outputs": [
        {
          "output_type": "stream",
          "name": "stdout",
          "text": [
            "Enter the number upto which fibonacci series to be printed10\n",
            "0\n",
            "1\n",
            "1\n",
            "2\n",
            "3\n",
            "5\n",
            "8\n",
            "13\n",
            "21\n",
            "34\n",
            "55\n"
          ]
        }
      ]
    },
    {
      "cell_type": "markdown",
      "metadata": {
        "id": "u4uBUcQKlrTE"
      },
      "source": [
        "## 5. Complete the following code to find the minimum of 3 number using cinditional statements. Output should be as displayed"
      ]
    },
    {
      "cell_type": "code",
      "metadata": {
        "id": "XdZwrZjIlrTF",
        "colab": {
          "base_uri": "https://localhost:8080/"
        },
        "outputId": "fda582d1-bbab-472e-9a4b-2e00fdab617c"
      },
      "source": [
        "a,b,c = input(\"Enter three numbers followed by  : \").split()\n",
        "\n",
        "print(\"First number :\",a)\n",
        "print(\"Second number :\",b)\n",
        "print(\"Third number :\",c)\n",
        "\n",
        "if(a==b==c):\n",
        "\n",
        "    print(\"Entered numbers are equal!!!\")\n",
        "    \n",
        "elif(a<b and a<c):\n",
        "\n",
        "    print(a,\" is smallest\")\n",
        "    \n",
        "elif(b<a and b<c):\n",
        "\n",
        "    print(b,\" is smallest\")\n",
        "    \n",
        "elif(c<a and c<b):\n",
        "\n",
        "    print(c,\" is smallest\")\n"
      ],
      "execution_count": 13,
      "outputs": [
        {
          "output_type": "stream",
          "name": "stdout",
          "text": [
            "Enter three numbers followed by  : 2 -1 3\n",
            "First number : 2\n",
            "Second number : -1\n",
            "Third number : 3\n",
            "-1  is smallest\n"
          ]
        }
      ]
    },
    {
      "cell_type": "code",
      "metadata": {
        "colab": {
          "base_uri": "https://localhost:8080/"
        },
        "id": "FTqqtb1yMB84",
        "outputId": "aefa444f-0f15-4571-9f7b-513468f993da"
      },
      "source": [
        "a,b,c = input(\"Enter three numbers followed by space : \").split()\n",
        "\n",
        "print(\"First number :\",a)\n",
        "print(\"Second number :\",b)\n",
        "print(\"Third number :\",c)\n",
        "\n",
        "    print(\"Entered numbers are equal!!!\")\n",
        "\n",
        "    print(a,\" is smallest\")\n",
        "\n",
        "    print(b,\" is smallest\")\n",
        "\n",
        "    print(c,\" is smallest\")\n"
      ],
      "execution_count": null,
      "outputs": [
        {
          "output_type": "stream",
          "name": "stdout",
          "text": [
            "Enter three numbers followed by  : 3 -11 12\n",
            "First number : 3\n",
            "Second number : -11\n",
            "Third number : 12\n",
            "-11  is smallest\n"
          ]
        }
      ]
    },
    {
      "cell_type": "markdown",
      "metadata": {
        "id": "aR_CnToWlrTG"
      },
      "source": [
        "## 6. Write a program to print star pyramind. The number of rows should be taken as input from the user"
      ]
    },
    {
      "cell_type": "code",
      "metadata": {
        "id": "M37A-buplrTG",
        "colab": {
          "base_uri": "https://localhost:8080/"
        },
        "outputId": "a18eb547-bf92-477f-a090-40f7a6e9dee5"
      },
      "source": [
        "rows = int(input(\"Enter the no.of rows required\"))\n",
        "for i in range(1,rows+1):\n",
        "  for j in range(i):\n",
        "    print('*',end='')\n",
        "  print()\n"
      ],
      "execution_count": 29,
      "outputs": [
        {
          "output_type": "stream",
          "name": "stdout",
          "text": [
            "Enter the no.of rows required7\n",
            "*\n",
            "**\n",
            "***\n",
            "****\n",
            "*****\n",
            "******\n",
            "*******\n"
          ]
        }
      ]
    },
    {
      "cell_type": "markdown",
      "metadata": {
        "id": "tlY6aFWBlrTH"
      },
      "source": [
        "## 7. Complete the following code to convert hour into seconds. Output should be as displayed"
      ]
    },
    {
      "cell_type": "code",
      "metadata": {
        "id": "YOZQFk7FlrTH",
        "colab": {
          "base_uri": "https://localhost:8080/"
        },
        "outputId": "0475d1f8-e2f5-4351-e1ec-f6467ba0aea4"
      },
      "source": [
        "def to_seconds(t):\n",
        "  t=t*3600\n",
        "  return t\n",
        "time_in_hours = int(input(\"Enter time in hours\"))\n",
        "print(time_in_hours ,\" Hour is equal to\" ,to_seconds(time_in_hours) ,\" Seconds\")"
      ],
      "execution_count": 14,
      "outputs": [
        {
          "output_type": "stream",
          "name": "stdout",
          "text": [
            "Enter time in hours12\n",
            "12  Hour is equal to 43200  Seconds\n"
          ]
        }
      ]
    },
    {
      "cell_type": "markdown",
      "metadata": {
        "id": "CnYorNiLlrTI"
      },
      "source": [
        "## 8. Write a program to print multiplication table as below"
      ]
    },
    {
      "cell_type": "code",
      "metadata": {
        "id": "dPQqDPuDlrTI",
        "colab": {
          "base_uri": "https://localhost:8080/"
        },
        "outputId": "bcae7f90-1a0f-4f48-c7ea-4afa4d07097f"
      },
      "source": [
        "num = int(input(\"Enter the number for which multiplication table required:\"))\n",
        "\n",
        "for i in range(1,11):\n",
        "    print(i,\"x\",num,\"=\",i*num)"
      ],
      "execution_count": 15,
      "outputs": [
        {
          "output_type": "stream",
          "name": "stdout",
          "text": [
            "Enter the number for which multiplication table required:4\n",
            "1 x 4 = 4\n",
            "2 x 4 = 8\n",
            "3 x 4 = 12\n",
            "4 x 4 = 16\n",
            "5 x 4 = 20\n",
            "6 x 4 = 24\n",
            "7 x 4 = 28\n",
            "8 x 4 = 32\n",
            "9 x 4 = 36\n",
            "10 x 4 = 40\n"
          ]
        }
      ]
    },
    {
      "cell_type": "markdown",
      "metadata": {
        "id": "Fiaez8iblrTI"
      },
      "source": [
        "## 9. Write a program to take your 5 favorite food as list and print each as 'I like Biriyani'"
      ]
    },
    {
      "cell_type": "code",
      "metadata": {
        "id": "39W1zFX7lrTJ",
        "colab": {
          "base_uri": "https://localhost:8080/"
        },
        "outputId": "3584e88b-eea8-4818-86fa-ec456af80acf"
      },
      "source": [
        "food = []\n",
        "\n",
        "for i in range(0,5):\n",
        "    five = input(\"Enter favourite 5 foods\")\n",
        "    food.append(five)\n",
        "   \n",
        "\n",
        "print(food)\n",
        "\n",
        "for i in food:\n",
        "    print(\"I like \",i)\n"
      ],
      "execution_count": 16,
      "outputs": [
        {
          "output_type": "stream",
          "name": "stdout",
          "text": [
            "Enter favourite 5 foodschicken \n",
            "Enter favourite 5 foodsice cream\n",
            "Enter favourite 5 foodschocolate\n",
            "Enter favourite 5 foodsyogurt\n",
            "Enter favourite 5 foodsbiriyani\n",
            "['chicken ', 'ice cream', 'chocolate', 'yogurt', 'biriyani']\n",
            "I like  chicken \n",
            "I like  ice cream\n",
            "I like  chocolate\n",
            "I like  yogurt\n",
            "I like  biriyani\n"
          ]
        }
      ]
    },
    {
      "cell_type": "markdown",
      "metadata": {
        "id": "3vlcDNNEP7d_"
      },
      "source": [
        "## 10. Find error(s) in the following code(if any) and rewrite code.\n",
        "\n"
      ]
    },
    {
      "cell_type": "code",
      "metadata": {
        "id": "coREkcY3P9sG",
        "colab": {
          "base_uri": "https://localhost:8080/"
        },
        "outputId": "02873b32-0bc5-4376-da9a-fe9563a111d7"
      },
      "source": [
        "x=int(input(\"Enter value of x:\"))\n",
        "for y in range(0,10):\n",
        "     if x==y:\n",
        "        print(\"They are equal\")\n",
        "     else:\n",
        "        print( \"They are unequal\")"
      ],
      "execution_count": 27,
      "outputs": [
        {
          "output_type": "stream",
          "name": "stdout",
          "text": [
            "Enter value of x:6\n",
            "They are unequal\n",
            "They are unequal\n",
            "They are unequal\n",
            "They are unequal\n",
            "They are unequal\n",
            "They are unequal\n",
            "They are equal\n",
            "They are unequal\n",
            "They are unequal\n",
            "They are unequal\n"
          ]
        }
      ]
    }
  ]
}