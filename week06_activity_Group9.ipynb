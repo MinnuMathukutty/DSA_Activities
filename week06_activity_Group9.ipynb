{
 "cells": [
  {
   "cell_type": "code",
   "execution_count": 1,
   "id": "82937967",
   "metadata": {},
   "outputs": [],
   "source": [
    "import pandas as pd\n",
    "import numpy as np"
   ]
  },
  {
   "cell_type": "code",
   "execution_count": 2,
   "id": "082e26ec",
   "metadata": {},
   "outputs": [],
   "source": [
    "import matplotlib.pyplot as plt\n",
    "import seaborn as sns"
   ]
  },
  {
   "cell_type": "code",
   "execution_count": 7,
   "id": "3d10daa5",
   "metadata": {},
   "outputs": [],
   "source": [
    "df = pd.read_excel('Dataset_w6.xlsx')"
   ]
  },
  {
   "cell_type": "code",
   "execution_count": 8,
   "id": "1c045cbb",
   "metadata": {},
   "outputs": [
    {
     "data": {
      "text/html": [
       "<div>\n",
       "<style scoped>\n",
       "    .dataframe tbody tr th:only-of-type {\n",
       "        vertical-align: middle;\n",
       "    }\n",
       "\n",
       "    .dataframe tbody tr th {\n",
       "        vertical-align: top;\n",
       "    }\n",
       "\n",
       "    .dataframe thead th {\n",
       "        text-align: right;\n",
       "    }\n",
       "</style>\n",
       "<table border=\"1\" class=\"dataframe\">\n",
       "  <thead>\n",
       "    <tr style=\"text-align: right;\">\n",
       "      <th></th>\n",
       "      <th>country</th>\n",
       "      <th>Region</th>\n",
       "      <th>Surface area (km2)</th>\n",
       "      <th>Population in thousands (2017)</th>\n",
       "      <th>GDP per capita (current US$)</th>\n",
       "      <th>Agricultural production index</th>\n",
       "      <th>International trade: Imports (million US$)</th>\n",
       "    </tr>\n",
       "  </thead>\n",
       "  <tbody>\n",
       "    <tr>\n",
       "      <th>0</th>\n",
       "      <td>Afghanistan</td>\n",
       "      <td>SouthernAsia</td>\n",
       "      <td>652864</td>\n",
       "      <td>35530</td>\n",
       "      <td>623.2</td>\n",
       "      <td>125</td>\n",
       "      <td>3568</td>\n",
       "    </tr>\n",
       "    <tr>\n",
       "      <th>1</th>\n",
       "      <td>Albania</td>\n",
       "      <td>SouthernEurope</td>\n",
       "      <td>28748</td>\n",
       "      <td>2930</td>\n",
       "      <td>3984.2</td>\n",
       "      <td>134</td>\n",
       "      <td>4669</td>\n",
       "    </tr>\n",
       "    <tr>\n",
       "      <th>2</th>\n",
       "      <td>Algeria</td>\n",
       "      <td>NorthernAfrica</td>\n",
       "      <td>2381741</td>\n",
       "      <td>41318</td>\n",
       "      <td>4154.1</td>\n",
       "      <td>160</td>\n",
       "      <td>47091</td>\n",
       "    </tr>\n",
       "    <tr>\n",
       "      <th>3</th>\n",
       "      <td>Angola</td>\n",
       "      <td>MiddleAfrica</td>\n",
       "      <td>1246700</td>\n",
       "      <td>29784</td>\n",
       "      <td>4714.1</td>\n",
       "      <td>175</td>\n",
       "      <td>8790</td>\n",
       "    </tr>\n",
       "    <tr>\n",
       "      <th>4</th>\n",
       "      <td>Antigua and Barbuda</td>\n",
       "      <td>Caribbean</td>\n",
       "      <td>442</td>\n",
       "      <td>102</td>\n",
       "      <td>14764.5</td>\n",
       "      <td>88</td>\n",
       "      <td>491</td>\n",
       "    </tr>\n",
       "    <tr>\n",
       "      <th>...</th>\n",
       "      <td>...</td>\n",
       "      <td>...</td>\n",
       "      <td>...</td>\n",
       "      <td>...</td>\n",
       "      <td>...</td>\n",
       "      <td>...</td>\n",
       "      <td>...</td>\n",
       "    </tr>\n",
       "    <tr>\n",
       "      <th>191</th>\n",
       "      <td>Venezuela (Bolivarian Republic of)</td>\n",
       "      <td>SouthAmerica</td>\n",
       "      <td>912050</td>\n",
       "      <td>31977</td>\n",
       "      <td>11068.9</td>\n",
       "      <td>118</td>\n",
       "      <td>16324</td>\n",
       "    </tr>\n",
       "    <tr>\n",
       "      <th>192</th>\n",
       "      <td>Viet Nam</td>\n",
       "      <td>South-easternAsia</td>\n",
       "      <td>330967</td>\n",
       "      <td>95541</td>\n",
       "      <td>2067.9</td>\n",
       "      <td>136</td>\n",
       "      <td>174111</td>\n",
       "    </tr>\n",
       "    <tr>\n",
       "      <th>193</th>\n",
       "      <td>Yemen</td>\n",
       "      <td>WesternAsia</td>\n",
       "      <td>527968</td>\n",
       "      <td>28250</td>\n",
       "      <td>1106.4</td>\n",
       "      <td>136</td>\n",
       "      <td>6861</td>\n",
       "    </tr>\n",
       "    <tr>\n",
       "      <th>194</th>\n",
       "      <td>Zambia</td>\n",
       "      <td>EasternAfrica</td>\n",
       "      <td>752612</td>\n",
       "      <td>17094</td>\n",
       "      <td>1311.1</td>\n",
       "      <td>179</td>\n",
       "      <td>7442</td>\n",
       "    </tr>\n",
       "    <tr>\n",
       "      <th>195</th>\n",
       "      <td>Zimbabwe</td>\n",
       "      <td>EasternAfrica</td>\n",
       "      <td>390757</td>\n",
       "      <td>16530</td>\n",
       "      <td>890.4</td>\n",
       "      <td>99</td>\n",
       "      <td>5212</td>\n",
       "    </tr>\n",
       "  </tbody>\n",
       "</table>\n",
       "<p>196 rows × 7 columns</p>\n",
       "</div>"
      ],
      "text/plain": [
       "                                country             Region  \\\n",
       "0                           Afghanistan       SouthernAsia   \n",
       "1                               Albania     SouthernEurope   \n",
       "2                               Algeria     NorthernAfrica   \n",
       "3                                Angola       MiddleAfrica   \n",
       "4                   Antigua and Barbuda          Caribbean   \n",
       "..                                  ...                ...   \n",
       "191  Venezuela (Bolivarian Republic of)       SouthAmerica   \n",
       "192                            Viet Nam  South-easternAsia   \n",
       "193                               Yemen        WesternAsia   \n",
       "194                              Zambia      EasternAfrica   \n",
       "195                            Zimbabwe      EasternAfrica   \n",
       "\n",
       "     Surface area (km2)  Population in thousands (2017)  \\\n",
       "0                652864                           35530   \n",
       "1                 28748                            2930   \n",
       "2               2381741                           41318   \n",
       "3               1246700                           29784   \n",
       "4                   442                             102   \n",
       "..                  ...                             ...   \n",
       "191              912050                           31977   \n",
       "192              330967                           95541   \n",
       "193              527968                           28250   \n",
       "194              752612                           17094   \n",
       "195              390757                           16530   \n",
       "\n",
       "     GDP per capita (current US$)  Agricultural production index   \\\n",
       "0                           623.2                             125   \n",
       "1                          3984.2                             134   \n",
       "2                          4154.1                             160   \n",
       "3                          4714.1                             175   \n",
       "4                         14764.5                              88   \n",
       "..                            ...                             ...   \n",
       "191                       11068.9                             118   \n",
       "192                        2067.9                             136   \n",
       "193                        1106.4                             136   \n",
       "194                        1311.1                             179   \n",
       "195                         890.4                              99   \n",
       "\n",
       "     International trade: Imports (million US$)  \n",
       "0                                          3568  \n",
       "1                                          4669  \n",
       "2                                         47091  \n",
       "3                                          8790  \n",
       "4                                           491  \n",
       "..                                          ...  \n",
       "191                                       16324  \n",
       "192                                      174111  \n",
       "193                                        6861  \n",
       "194                                        7442  \n",
       "195                                        5212  \n",
       "\n",
       "[196 rows x 7 columns]"
      ]
     },
     "execution_count": 8,
     "metadata": {},
     "output_type": "execute_result"
    }
   ],
   "source": [
    "df"
   ]
  },
  {
   "cell_type": "markdown",
   "id": "12ef15e9",
   "metadata": {},
   "source": [
    "# 1. Find out how many countries are there in the dataset.\n"
   ]
  },
  {
   "cell_type": "code",
   "execution_count": 13,
   "id": "413b6bab",
   "metadata": {},
   "outputs": [
    {
     "data": {
      "text/plain": [
       "196"
      ]
     },
     "execution_count": 13,
     "metadata": {},
     "output_type": "execute_result"
    }
   ],
   "source": [
    "df['country'].count()"
   ]
  },
  {
   "cell_type": "markdown",
   "id": "1448f912",
   "metadata": {},
   "source": [
    "This indicates that the dataset has data of 196 countries"
   ]
  },
  {
   "cell_type": "markdown",
   "id": "9deea91b",
   "metadata": {},
   "source": [
    "# 2. Examine the data by using visualizations.\n"
   ]
  },
  {
   "cell_type": "code",
   "execution_count": 83,
   "id": "0882e01c",
   "metadata": {},
   "outputs": [
    {
     "data": {
      "text/html": [
       "<div>\n",
       "<style scoped>\n",
       "    .dataframe tbody tr th:only-of-type {\n",
       "        vertical-align: middle;\n",
       "    }\n",
       "\n",
       "    .dataframe tbody tr th {\n",
       "        vertical-align: top;\n",
       "    }\n",
       "\n",
       "    .dataframe thead th {\n",
       "        text-align: right;\n",
       "    }\n",
       "</style>\n",
       "<table border=\"1\" class=\"dataframe\">\n",
       "  <thead>\n",
       "    <tr style=\"text-align: right;\">\n",
       "      <th></th>\n",
       "      <th>country</th>\n",
       "      <th>Region</th>\n",
       "      <th>Surface area (km2)</th>\n",
       "      <th>Population in thousands (2017)</th>\n",
       "      <th>GDP per capita (current US$)</th>\n",
       "      <th>Agricultural production index</th>\n",
       "      <th>International trade: Imports (million US$)</th>\n",
       "    </tr>\n",
       "  </thead>\n",
       "  <tbody>\n",
       "    <tr>\n",
       "      <th>118</th>\n",
       "      <td>Montserrat</td>\n",
       "      <td>Caribbean</td>\n",
       "      <td>103</td>\n",
       "      <td>5</td>\n",
       "      <td>11553.4</td>\n",
       "      <td>103</td>\n",
       "      <td>36</td>\n",
       "    </tr>\n",
       "    <tr>\n",
       "      <th>181</th>\n",
       "      <td>Tuvalu</td>\n",
       "      <td>Polynesia</td>\n",
       "      <td>26</td>\n",
       "      <td>11</td>\n",
       "      <td>3362.4</td>\n",
       "      <td>110</td>\n",
       "      <td>12</td>\n",
       "    </tr>\n",
       "    <tr>\n",
       "      <th>43</th>\n",
       "      <td>Cook Islands</td>\n",
       "      <td>Polynesia</td>\n",
       "      <td>236</td>\n",
       "      <td>17</td>\n",
       "      <td>14118.7</td>\n",
       "      <td>91</td>\n",
       "      <td>98</td>\n",
       "    </tr>\n",
       "    <tr>\n",
       "      <th>133</th>\n",
       "      <td>Palau</td>\n",
       "      <td>Micronesia</td>\n",
       "      <td>459</td>\n",
       "      <td>22</td>\n",
       "      <td>12122.5</td>\n",
       "      <td>99</td>\n",
       "      <td>154</td>\n",
       "    </tr>\n",
       "    <tr>\n",
       "      <th>24</th>\n",
       "      <td>British Virgin Islands</td>\n",
       "      <td>Caribbean</td>\n",
       "      <td>151</td>\n",
       "      <td>31</td>\n",
       "      <td>30144.5</td>\n",
       "      <td>103</td>\n",
       "      <td>444</td>\n",
       "    </tr>\n",
       "  </tbody>\n",
       "</table>\n",
       "</div>"
      ],
      "text/plain": [
       "                    country      Region  Surface area (km2)  \\\n",
       "118              Montserrat   Caribbean                 103   \n",
       "181                  Tuvalu   Polynesia                  26   \n",
       "43             Cook Islands   Polynesia                 236   \n",
       "133                   Palau  Micronesia                 459   \n",
       "24   British Virgin Islands   Caribbean                 151   \n",
       "\n",
       "     Population in thousands (2017)  GDP per capita (current US$)  \\\n",
       "118                               5                       11553.4   \n",
       "181                              11                        3362.4   \n",
       "43                               17                       14118.7   \n",
       "133                              22                       12122.5   \n",
       "24                               31                       30144.5   \n",
       "\n",
       "     Agricultural production index   \\\n",
       "118                             103   \n",
       "181                             110   \n",
       "43                               91   \n",
       "133                              99   \n",
       "24                              103   \n",
       "\n",
       "     International trade: Imports (million US$)  \n",
       "118                                          36  \n",
       "181                                          12  \n",
       "43                                           98  \n",
       "133                                         154  \n",
       "24                                          444  "
      ]
     },
     "execution_count": 83,
     "metadata": {},
     "output_type": "execute_result"
    }
   ],
   "source": [
    "viz1 = df.sort_values('Population in thousands (2017)',ascending = True).head()\n",
    "viz1\n"
   ]
  },
  {
   "cell_type": "code",
   "execution_count": 42,
   "id": "233d7387",
   "metadata": {},
   "outputs": [
    {
     "data": {
      "text/plain": [
       "<AxesSubplot:>"
      ]
     },
     "execution_count": 42,
     "metadata": {},
     "output_type": "execute_result"
    },
    {
     "data": {
      "image/png": "[encoded data removed]",
      "text/plain": [
       "<Figure size 432x288 with 2 Axes>"
      ]
     },
     "metadata": {
      "needs_background": "light"
     },
     "output_type": "display_data"
    }
   ],
   "source": [
    "sns.heatmap(viz1.corr(),annot=True,linecolor='yellow')"
   ]
  },
  {
   "cell_type": "markdown",
   "id": "0be68c90",
   "metadata": {},
   "source": [
    "Heatmap for 5 least populated countries"
   ]
  },
  {
   "cell_type": "code",
   "execution_count": 104,
   "id": "aae87bcf",
   "metadata": {},
   "outputs": [
    {
     "data": {
      "text/plain": [
       "Text(0.5, 1.0, 'Region Vs Surface area')"
      ]
     },
     "execution_count": 104,
     "metadata": {},
     "output_type": "execute_result"
    },
    {
     "data": {
      "image/png": "[encoded data removed]",
      "text/plain": [
       "<Figure size 1296x720 with 1 Axes>"
      ]
     },
     "metadata": {
      "needs_background": "light"
     },
     "output_type": "display_data"
    }
   ],
   "source": [
    "plt.figure(figsize=[18,10])\n",
    "x1 = df['Region']\n",
    "y1 = df['Surface area (km2)']\n",
    "plt.bar(x1,y1,color = 'brown')\n",
    "plt.grid()\n",
    "plt.xticks(rotation=90)\n",
    "plt.xlabel('Region',size = 15)\n",
    "plt.ylabel('Surface area',size = 15)\n",
    "plt.title('Region Vs Surface area',size = 20)"
   ]
  },
  {
   "cell_type": "code",
   "execution_count": 85,
   "id": "978607dd",
   "metadata": {},
   "outputs": [
    {
     "data": {
      "text/plain": [
       "Text(0.5, 1.0, 'Top 5 populated countries')"
      ]
     },
     "execution_count": 85,
     "metadata": {},
     "output_type": "execute_result"
    },
    {
     "data": {
      "image/png": "[encoded data removed]",
      "text/plain": [
       "<Figure size 1080x720 with 1 Axes>"
      ]
     },
     "metadata": {
      "needs_background": "light"
     },
     "output_type": "display_data"
    }
   ],
   "source": [
    "plt.figure(figsize=[15,10])\n",
    "x2 = df.sort_values('Population in thousands (2017)',ascending = False).head()\n",
    "x21 = x2['country']\n",
    "y2 = x2['Population in thousands (2017)']\n",
    "plt.bar(x21,y2,color = 'green')\n",
    "plt.xticks(rotation=90)\n",
    "plt.xlabel('country',size = 15)\n",
    "plt.ylabel('population',size = 15)\n",
    "plt.grid()\n",
    "plt.title('Top 5 populated countries',size = 20)"
   ]
  },
  {
   "cell_type": "markdown",
   "id": "4f41b208",
   "metadata": {},
   "source": [
    "# 3. Find out how many countries with respect to the region are available\n",
    "in the dataset\n"
   ]
  },
  {
   "cell_type": "code",
   "execution_count": 91,
   "id": "15de8585",
   "metadata": {},
   "outputs": [
    {
     "data": {
      "text/plain": [
       "Region\n",
       "Caribbean            16\n",
       "CentralAmerica        8\n",
       "CentralAsia           5\n",
       "EasternAfrica        17\n",
       "EasternAsia           7\n",
       "EasternEurope        10\n",
       "Melanesia             5\n",
       "Micronesia            4\n",
       "MiddleAfrica          9\n",
       "NorthernAfrica        5\n",
       "NorthernAmerica       4\n",
       "NorthernEurope       10\n",
       "Oceania               2\n",
       "Polynesia             5\n",
       "South-easternAsia    11\n",
       "SouthAmerica         12\n",
       "SouthernAfrica        5\n",
       "SouthernAsia          9\n",
       "SouthernEurope       12\n",
       "WesternAfrica        15\n",
       "WesternAsia          18\n",
       "WesternEurope         7\n",
       "Name: country, dtype: int64"
      ]
     },
     "execution_count": 91,
     "metadata": {},
     "output_type": "execute_result"
    }
   ],
   "source": [
    "m = df.groupby('Region')\n",
    "m['country'].count()"
   ]
  },
  {
   "cell_type": "markdown",
   "id": "5bd45815",
   "metadata": {},
   "source": [
    "# 4. On average which region has the highest\n"
   ]
  },
  {
   "cell_type": "markdown",
   "id": "3f8b545d",
   "metadata": {},
   "source": [
    "\n",
    "a. GDP per capita (current US$)\n"
   ]
  },
  {
   "cell_type": "code",
   "execution_count": 97,
   "id": "30a19e21",
   "metadata": {},
   "outputs": [
    {
     "data": {
      "text/plain": [
       "Region\n",
       "NorthernAmerica    57659.0\n",
       "Name: GDP per capita (current US$), dtype: float64"
      ]
     },
     "execution_count": 97,
     "metadata": {},
     "output_type": "execute_result"
    }
   ],
   "source": [
    "n = df.groupby('Region')['GDP per capita (current US$)'].mean()\n",
    "n.sort_values(ascending = False).head(1)\n"
   ]
  },
  {
   "cell_type": "markdown",
   "id": "778ef801",
   "metadata": {},
   "source": [
    "From this its understood that 'Northern America' has the highest GDP per capita on an average"
   ]
  },
  {
   "cell_type": "markdown",
   "id": "854fe089",
   "metadata": {},
   "source": [
    "b. International trade: Imports (million US$)\n"
   ]
  },
  {
   "cell_type": "code",
   "execution_count": 99,
   "id": "95327c52",
   "metadata": {},
   "outputs": [
    {
     "data": {
      "text/plain": [
       "Region\n",
       "NorthernAmerica    663552.25\n",
       "Name: International trade: Imports (million US$), dtype: float64"
      ]
     },
     "execution_count": 99,
     "metadata": {},
     "output_type": "execute_result"
    }
   ],
   "source": [
    "n = df.groupby('Region')['International trade: Imports (million US$)'].mean()\n",
    "n.sort_values(ascending = False).head(1)"
   ]
  },
  {
   "cell_type": "markdown",
   "id": "f3f5354b",
   "metadata": {},
   "source": [
    "From this its understood that 'Northern America' has the highest 'International trade: Imports (million US$)' on an average"
   ]
  },
  {
   "cell_type": "markdown",
   "id": "e853a890",
   "metadata": {},
   "source": [
    "# 5. Find out which region has more consistent with respect to GDP per\n",
    "capita (current US$"
   ]
  },
  {
   "cell_type": "code",
   "execution_count": 102,
   "id": "92955dac",
   "metadata": {},
   "outputs": [
    {
     "data": {
      "text/plain": [
       "Region\n",
       "WesternAfrica    815.095399\n",
       "Name: GDP per capita (current US$), dtype: float64"
      ]
     },
     "execution_count": 102,
     "metadata": {},
     "output_type": "execute_result"
    }
   ],
   "source": [
    "l=df.groupby(['Region']).std()\n",
    "l['GDP per capita (current US$)'].sort_values(ascending=True).head(1)"
   ]
  },
  {
   "cell_type": "markdown",
   "id": "47152d1f",
   "metadata": {},
   "source": [
    "This shows that the 'Western AFrica' region has more consistent GDP per capita"
   ]
  },
  {
   "cell_type": "code",
   "execution_count": null,
   "id": "2c90a13f",
   "metadata": {},
   "outputs": [],
   "source": []
  }
 ],
 "metadata": {
  "kernelspec": {
   "display_name": "Python 3",
   "language": "python",
   "name": "python3"
  },
  "language_info": {
   "codemirror_mode": {
    "name": "ipython",
    "version": 3
   },
   "file_extension": ".py",
   "mimetype": "text/x-python",
   "name": "python",
   "nbconvert_exporter": "python",
   "pygments_lexer": "ipython3",
   "version": "3.8.8"
  }
 },
 "nbformat": 4,
 "nbformat_minor": 5
}
